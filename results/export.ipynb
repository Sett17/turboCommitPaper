{
 "cells": [
  {
   "attachments": {},
   "cell_type": "markdown",
   "metadata": {},
   "source": [
    "# Export eveything at once"
   ]
  },
  {
   "cell_type": "code",
   "execution_count": 3,
   "metadata": {},
   "outputs": [
    {
     "name": "stdout",
     "output_type": "stream",
     "text": [
      "Data has been successfully exported to combined_data.csv\n"
     ]
    }
   ],
   "source": [
    "import sqlite3\n",
    "import pandas as pd\n",
    "import os\n",
    "\n",
    "def sqlite_to_csv(db_filenames, output_csv):\n",
    "    # Initialize an empty DataFrame to store the data from each SQLite database\n",
    "    combined_data = pd.DataFrame()\n",
    "\n",
    "    for db_file in db_filenames:\n",
    "        # Check if the file exists and has the .db extension\n",
    "        if os.path.exists(db_file) and db_file.endswith(\".db\"):\n",
    "            # Connect to the SQLite database\n",
    "            conn = sqlite3.connect(db_file)\n",
    "\n",
    "            # Load the evaluated table into a DataFrame\n",
    "            query = \"SELECT * FROM evaluated\"\n",
    "            data = pd.read_sql_query(query, conn)\n",
    "\n",
    "            # Append the database file name to the hash column\n",
    "            data['hash'] = data['hash'].astype(str) + '_' + db_file\n",
    "\n",
    "            # Close the SQLite connection\n",
    "            conn.close()\n",
    "\n",
    "            # Append the data DataFrame to the combined_data DataFrame\n",
    "            combined_data = pd.concat([combined_data, data], ignore_index=True)\n",
    "\n",
    "    # Save the combined_data DataFrame to a CSV file\n",
    "    combined_data.to_csv(output_csv, index=False)\n",
    "    print(f\"Data has been successfully exported to {output_csv}\")\n",
    "\n",
    "# Example usage\n",
    "db_filenames = ['taxonomy.db', 'resume.db', 'openai-kotlin.db']\n",
    "output_csv = 'combined_data.csv'\n",
    "sqlite_to_csv(db_filenames, output_csv)\n"
   ]
  },
  {
   "attachments": {},
   "cell_type": "markdown",
   "metadata": {},
   "source": [
    "# Export    "
   ]
  },
  {
   "cell_type": "code",
   "execution_count": 1,
   "metadata": {},
   "outputs": [],
   "source": [
    "import sqlite3\n",
    "import csv\n",
    "\n",
    "DATABASE_PATH = \"resume.db\"\n",
    "\n",
    "# Connect to the SQLite database\n",
    "conn = sqlite3.connect(DATABASE_PATH)\n",
    "\n",
    "# Create a cursor\n",
    "cursor = conn.cursor()\n",
    "\n",
    "# Execute a SELECT statement to get the overall scores and hash values\n",
    "cursor.execute(\"SELECT hash, human_overall, ai_overall FROM evaluated\")\n",
    "\n",
    "# Fetch all the rows\n",
    "rows = cursor.fetchall()\n",
    "\n",
    "# Define the output file name, based on the database name\n",
    "output_file = DATABASE_PATH.replace(\".db\", \".csv\")\n",
    "\n",
    "# Open the output file for writing\n",
    "with open(output_file, 'w', newline='') as csvfile:\n",
    "    # Create a CSV writer object\n",
    "    writer = csv.writer(csvfile)\n",
    "\n",
    "    # Write the header row\n",
    "    writer.writerow(['hash', 'human_overall', 'ai_overall'])\n",
    "\n",
    "    # Loop over the rows and write them to the CSV file\n",
    "    for row in rows:\n",
    "        writer.writerow(row)\n",
    "\n",
    "# Close the output file\n",
    "csvfile.close()\n",
    "\n",
    "# Close the database connection\n",
    "conn.close()"
   ]
  },
  {
   "attachments": {},
   "cell_type": "markdown",
   "metadata": {},
   "source": [
    "# Merge"
   ]
  },
  {
   "cell_type": "code",
   "execution_count": 3,
   "metadata": {},
   "outputs": [],
   "source": [
    "import pandas as pd\n",
    "\n",
    "# list of csv files\n",
    "CSV_FILES = ['taxonomy.csv', 'resume.csv']\n",
    "\n",
    "# create an empty DataFrame\n",
    "merged_df = pd.DataFrame()\n",
    "\n",
    "# loop through each file and append to the merged_df\n",
    "for file in CSV_FILES:\n",
    "    # read csv file\n",
    "    df = pd.read_csv(file)\n",
    "    # add filename to the end of each hash value\n",
    "    df['hash'] = df['hash'] + '_' + file\n",
    "    # append to the merged_df\n",
    "    merged_df = pd.concat([merged_df, df], ignore_index=True)\n",
    "\n",
    "# sort by hash values\n",
    "merged_df = merged_df.sort_values(by=['hash'])\n",
    "\n",
    "# save the merged csv file\n",
    "merged_df.to_csv('merged.csv', index=False)\n"
   ]
  }
 ],
 "metadata": {
  "kernelspec": {
   "display_name": "venv",
   "language": "python",
   "name": "python3"
  },
  "language_info": {
   "codemirror_mode": {
    "name": "ipython",
    "version": 3
   },
   "file_extension": ".py",
   "mimetype": "text/x-python",
   "name": "python",
   "nbconvert_exporter": "python",
   "pygments_lexer": "ipython3",
   "version": "3.11.3"
  },
  "orig_nbformat": 4
 },
 "nbformat": 4,
 "nbformat_minor": 2
}
